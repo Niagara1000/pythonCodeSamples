{
  "nbformat": 4,
  "nbformat_minor": 0,
  "metadata": {
    "colab": {
      "name": "Untitled4.ipynb",
      "provenance": []
    },
    "kernelspec": {
      "name": "python3",
      "display_name": "Python 3"
    },
    "language_info": {
      "name": "python"
    }
  },
  "cells": [
    {
      "cell_type": "code",
      "metadata": {
        "id": "6IAQwl_VAu7t"
      },
      "source": [
        "my_dict = {\"age\": 30, \n",
        "           \"birth_year\": 1991, \n",
        "           \"name\": \"Pam\", \n",
        "           \"siblings\": [\"Sam\", \"Tam\"]\n",
        "           }\n"
      ],
      "execution_count": 1,
      "outputs": []
    },
    {
      "cell_type": "code",
      "metadata": {
        "colab": {
          "base_uri": "https://localhost:8080/"
        },
        "id": "xpolwPXlAwGF",
        "outputId": "a03de77e-4fe0-4815-e7fd-869cc6c8b30c"
      },
      "source": [
        "my_dict['age']     # 30\n",
        "my_dict.get('age') # 30"
      ],
      "execution_count": 3,
      "outputs": [
        {
          "output_type": "execute_result",
          "data": {
            "text/plain": [
              "30"
            ]
          },
          "metadata": {},
          "execution_count": 3
        }
      ]
    },
    {
      "cell_type": "code",
      "metadata": {
        "id": "-G3OuCC6A5y5"
      },
      "source": [
        ""
      ],
      "execution_count": null,
      "outputs": []
    }
  ]
}