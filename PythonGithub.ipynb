{
  "nbformat": 4,
  "nbformat_minor": 0,
  "metadata": {
    "colab": {
      "name": "PythonGithub.ipynb",
      "provenance": []
    },
    "kernelspec": {
      "name": "python3",
      "display_name": "Python 3"
    },
    "language_info": {
      "name": "python"
    }
  },
  "cells": [
    {
      "cell_type": "code",
      "metadata": {
        "id": "uYAfqc9rDJSE"
      },
      "source": [
        "# Credits: some code borrowed from educative.io"
      ],
      "execution_count": null,
      "outputs": []
    },
    {
      "cell_type": "code",
      "metadata": {
        "id": "6IAQwl_VAu7t"
      },
      "source": [
        "my_dict = {\"age\": 30, \n",
        "           \"birth_year\": 1991, \n",
        "           \"name\": \"Pam\", \n",
        "           \"siblings\": [\"Sam\", \"Tam\"]\n",
        "           }\n"
      ],
      "execution_count": null,
      "outputs": []
    },
    {
      "cell_type": "code",
      "metadata": {
        "colab": {
          "base_uri": "https://localhost:8080/"
        },
        "id": "xpolwPXlAwGF",
        "outputId": "a03de77e-4fe0-4815-e7fd-869cc6c8b30c"
      },
      "source": [
        "my_dict['age']     # 30\n",
        "my_dict.get('age') # 30"
      ],
      "execution_count": null,
      "outputs": [
        {
          "output_type": "execute_result",
          "data": {
            "text/plain": [
              "30"
            ]
          },
          "metadata": {},
          "execution_count": 3
        }
      ]
    },
    {
      "cell_type": "code",
      "metadata": {
        "colab": {
          "base_uri": "https://localhost:8080/"
        },
        "id": "-G3OuCC6A5y5",
        "outputId": "8b4f6234-b4f4-4b54-91f7-ab7ed4839369"
      },
      "source": [
        "my_dict.get('company', 1)"
      ],
      "execution_count": null,
      "outputs": [
        {
          "output_type": "execute_result",
          "data": {
            "text/plain": [
              "1"
            ]
          },
          "metadata": {},
          "execution_count": 4
        }
      ]
    },
    {
      "cell_type": "code",
      "metadata": {
        "colab": {
          "base_uri": "https://localhost:8080/"
        },
        "id": "9BMNbQoFCsj6",
        "outputId": "a95360b9-22c9-49de-b715-b4fec4a08118"
      },
      "source": [
        "'age' in my_dict     # True\n",
        "'company' in my_dict # False"
      ],
      "execution_count": null,
      "outputs": [
        {
          "output_type": "execute_result",
          "data": {
            "text/plain": [
              "False"
            ]
          },
          "metadata": {},
          "execution_count": 5
        }
      ]
    },
    {
      "cell_type": "code",
      "metadata": {
        "colab": {
          "base_uri": "https://localhost:8080/"
        },
        "id": "nfQF43ZsC4Ur",
        "outputId": "8366d4ed-a172-4b9a-999d-9ffeafe80444"
      },
      "source": [
        "my_dict.keys()"
      ],
      "execution_count": null,
      "outputs": [
        {
          "output_type": "execute_result",
          "data": {
            "text/plain": [
              "dict_keys(['age', 'birth_year', 'name', 'siblings'])"
            ]
          },
          "metadata": {},
          "execution_count": 6
        }
      ]
    },
    {
      "cell_type": "code",
      "metadata": {
        "colab": {
          "base_uri": "https://localhost:8080/"
        },
        "id": "HM2DHrfCC_Xh",
        "outputId": "bfcbfbe4-96aa-433f-fdfa-4cf2736d3945"
      },
      "source": [
        "for i in my_dict.values():\n",
        "  print(i)"
      ],
      "execution_count": null,
      "outputs": [
        {
          "output_type": "stream",
          "text": [
            "30\n",
            "1991\n",
            "Pam\n",
            "['Sam', 'Tam']\n"
          ],
          "name": "stdout"
        }
      ]
    },
    {
      "cell_type": "code",
      "metadata": {
        "colab": {
          "base_uri": "https://localhost:8080/"
        },
        "id": "aC0oTdWYDA14",
        "outputId": "5e1d21cd-cb63-4c9c-e28c-7f7986155912"
      },
      "source": [
        "print(my_dict.items())"
      ],
      "execution_count": null,
      "outputs": [
        {
          "output_type": "stream",
          "text": [
            "dict_items([('age', 30), ('birth_year', 1991), ('name', 'Pam'), ('siblings', ['Sam', 'Tam'])])\n"
          ],
          "name": "stdout"
        }
      ]
    },
    {
      "cell_type": "code",
      "metadata": {
        "colab": {
          "base_uri": "https://localhost:8080/"
        },
        "id": "w2lo18PQDViz",
        "outputId": "9845718e-e36e-428b-829c-d8df6ee20df1"
      },
      "source": [
        "for i in my_dict.items():\n",
        "  print(i)"
      ],
      "execution_count": null,
      "outputs": [
        {
          "output_type": "stream",
          "text": [
            "('age', 30)\n",
            "('birth_year', 1991)\n",
            "('name', 'Pam')\n",
            "('siblings', ['Sam', 'Tam'])\n"
          ],
          "name": "stdout"
        }
      ]
    },
    {
      "cell_type": "markdown",
      "metadata": {
        "id": "VcP7OHDqFKIj"
      },
      "source": [
        "<br>\n",
        "\n",
        "# SETS\n",
        "\n",
        "- can perform `intersection`, `difference`, and `union` on sets"
      ]
    },
    {
      "cell_type": "code",
      "metadata": {
        "colab": {
          "base_uri": "https://localhost:8080/"
        },
        "id": "qH4Znu0NDb4l",
        "outputId": "3133a37f-a028-49f2-81b8-a37a4395d126"
      },
      "source": [
        "set1 = set()\n",
        "set1.add(1)\n",
        "set1.add(2)\n",
        "set1.add(1)\n",
        "# Note: set contains only a single 1 value\n",
        "print(\"--- set1 ---\")\n",
        "print(set1)"
      ],
      "execution_count": null,
      "outputs": [
        {
          "output_type": "stream",
          "text": [
            "--- set1 ---\n",
            "{1, 2}\n"
          ],
          "name": "stdout"
        }
      ]
    },
    {
      "cell_type": "code",
      "metadata": {
        "colab": {
          "base_uri": "https://localhost:8080/"
        },
        "id": "YN9lhG77FGMI",
        "outputId": "6438b565-5b9f-47dd-b4a8-030329855bd8"
      },
      "source": [
        "set2 = set()\n",
        "set2.add(1)\n",
        "set2.add(5)\n",
        "set2.add(3)\n",
        "set2.add(4)\n",
        "print(\"--- set2 ---\")\n",
        "print(set2) \n",
        "# Note: Notice how the items of the set are automatically ordered in the output"
      ],
      "execution_count": null,
      "outputs": [
        {
          "output_type": "stream",
          "text": [
            "--- set2 ---\n",
            "{1, 3, 4, 5}\n"
          ],
          "name": "stdout"
        }
      ]
    },
    {
      "cell_type": "code",
      "metadata": {
        "colab": {
          "base_uri": "https://localhost:8080/"
        },
        "id": "_j_GB_VFGM1L",
        "outputId": "651a3691-7d96-47e0-9e71-a7b07cafdb8f"
      },
      "source": [
        "# overlap\n",
        "set1.intersection(set2)"
      ],
      "execution_count": null,
      "outputs": [
        {
          "output_type": "execute_result",
          "data": {
            "text/plain": [
              "{1}"
            ]
          },
          "metadata": {},
          "execution_count": 17
        }
      ]
    },
    {
      "cell_type": "code",
      "metadata": {
        "colab": {
          "base_uri": "https://localhost:8080/"
        },
        "id": "cdtUfOL2GbP3",
        "outputId": "3041db03-7d8b-45a4-fb84-bffed4a614b2"
      },
      "source": [
        "# combination\n",
        "set1.union(set2)"
      ],
      "execution_count": null,
      "outputs": [
        {
          "output_type": "execute_result",
          "data": {
            "text/plain": [
              "{1, 2, 3, 4, 5}"
            ]
          },
          "metadata": {},
          "execution_count": 18
        }
      ]
    },
    {
      "cell_type": "code",
      "metadata": {
        "colab": {
          "base_uri": "https://localhost:8080/"
        },
        "id": "-gorCk6qGgAQ",
        "outputId": "c94acea2-ac5c-4eec-fe8e-0a74c5bbb5a1"
      },
      "source": [
        "# difference - what does set1 have that set2 doesn't have?\n",
        "set1.difference(set2)       # set1 - set2"
      ],
      "execution_count": null,
      "outputs": [
        {
          "output_type": "execute_result",
          "data": {
            "text/plain": [
              "{2}"
            ]
          },
          "metadata": {},
          "execution_count": 19
        }
      ]
    },
    {
      "cell_type": "code",
      "metadata": {
        "colab": {
          "base_uri": "https://localhost:8080/"
        },
        "id": "eei5H525HU6Q",
        "outputId": "c3ceebc3-4554-43ae-f703-87114e2dde56"
      },
      "source": [
        "# difference - what does set2 have that set1 doesn't have?\n",
        "set2.difference(set1)       # set2 - set1"
      ],
      "execution_count": null,
      "outputs": [
        {
          "output_type": "execute_result",
          "data": {
            "text/plain": [
              "{3, 4, 5}"
            ]
          },
          "metadata": {},
          "execution_count": 20
        }
      ]
    },
    {
      "cell_type": "code",
      "metadata": {
        "id": "AGy4nCz-Hcoy"
      },
      "source": [
        ""
      ],
      "execution_count": null,
      "outputs": []
    }
  ]
}